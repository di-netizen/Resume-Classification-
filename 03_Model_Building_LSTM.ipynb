{
 "cells": [
  {
   "cell_type": "code",
   "execution_count": 1,
   "id": "74d8752d",
   "metadata": {
    "ExecuteTime": {
     "end_time": "2022-09-21T16:12:23.544115Z",
     "start_time": "2022-09-21T16:12:18.240007Z"
    }
   },
   "outputs": [],
   "source": [
    "import pandas as pd \n",
    "import numpy as np\n",
    "from sklearn.model_selection import train_test_split\n",
    "from tensorflow.keras.preprocessing.text import Tokenizer\n",
    "import matplotlib.pyplot as plt\n",
    "import pickle \n",
    "from tensorflow.keras.preprocessing.sequence import pad_sequences\n",
    "from tensorflow.keras.models import Sequential\n",
    "from tensorflow.keras.layers import Dense,Embedding,LSTM"
   ]
  },
  {
   "cell_type": "code",
   "execution_count": 2,
   "id": "b76e9c71",
   "metadata": {
    "ExecuteTime": {
     "end_time": "2022-09-21T16:12:23.617028Z",
     "start_time": "2022-09-21T16:12:23.544115Z"
    }
   },
   "outputs": [
    {
     "data": {
      "text/html": [
       "<div>\n",
       "<style scoped>\n",
       "    .dataframe tbody tr th:only-of-type {\n",
       "        vertical-align: middle;\n",
       "    }\n",
       "\n",
       "    .dataframe tbody tr th {\n",
       "        vertical-align: top;\n",
       "    }\n",
       "\n",
       "    .dataframe thead th {\n",
       "        text-align: right;\n",
       "    }\n",
       "</style>\n",
       "<table border=\"1\" class=\"dataframe\">\n",
       "  <thead>\n",
       "    <tr style=\"text-align: right;\">\n",
       "      <th></th>\n",
       "      <th>clean_text</th>\n",
       "      <th>Cataogory_Enc</th>\n",
       "    </tr>\n",
       "  </thead>\n",
       "  <tbody>\n",
       "    <tr>\n",
       "      <th>0</th>\n",
       "      <td>skills programming languages python pandas num...</td>\n",
       "      <td>0</td>\n",
       "    </tr>\n",
       "    <tr>\n",
       "      <th>1</th>\n",
       "      <td>education details may may b e uit rgpv data sc...</td>\n",
       "      <td>0</td>\n",
       "    </tr>\n",
       "    <tr>\n",
       "      <th>2</th>\n",
       "      <td>areas interest deep learning control system de...</td>\n",
       "      <td>0</td>\n",
       "    </tr>\n",
       "    <tr>\n",
       "      <th>3</th>\n",
       "      <td>skills r python sap hana tableau sap hana sql ...</td>\n",
       "      <td>0</td>\n",
       "    </tr>\n",
       "    <tr>\n",
       "      <th>4</th>\n",
       "      <td>education details mca ymcaust faridabad haryan...</td>\n",
       "      <td>0</td>\n",
       "    </tr>\n",
       "  </tbody>\n",
       "</table>\n",
       "</div>"
      ],
      "text/plain": [
       "                                          clean_text  Cataogory_Enc\n",
       "0  skills programming languages python pandas num...              0\n",
       "1  education details may may b e uit rgpv data sc...              0\n",
       "2  areas interest deep learning control system de...              0\n",
       "3  skills r python sap hana tableau sap hana sql ...              0\n",
       "4  education details mca ymcaust faridabad haryan...              0"
      ]
     },
     "execution_count": 2,
     "metadata": {},
     "output_type": "execute_result"
    }
   ],
   "source": [
    "df = pd.read_csv('clean_data.csv',index_col=0)\n",
    "df.head()"
   ]
  },
  {
   "cell_type": "code",
   "execution_count": 3,
   "id": "822095aa",
   "metadata": {
    "ExecuteTime": {
     "end_time": "2022-09-21T16:12:23.632814Z",
     "start_time": "2022-09-21T16:12:23.617028Z"
    }
   },
   "outputs": [],
   "source": [
    "df['clean_text'] = df['clean_text'].apply(lambda x:str(x))"
   ]
  },
  {
   "cell_type": "code",
   "execution_count": 4,
   "id": "2be09e92",
   "metadata": {
    "ExecuteTime": {
     "end_time": "2022-09-21T16:12:33.785922Z",
     "start_time": "2022-09-21T16:12:33.773921Z"
    }
   },
   "outputs": [],
   "source": [
    "x = df['clean_text']\n",
    "y = df['Cataogory_Enc']"
   ]
  },
  {
   "cell_type": "code",
   "execution_count": 5,
   "id": "e53ec51d",
   "metadata": {
    "ExecuteTime": {
     "end_time": "2022-09-21T16:12:35.120163Z",
     "start_time": "2022-09-21T16:12:35.104160Z"
    }
   },
   "outputs": [],
   "source": [
    "x_train,x_test,y_train,y_test = train_test_split(x,y,random_state=42,test_size=0.3)"
   ]
  },
  {
   "cell_type": "markdown",
   "id": "9f71f942",
   "metadata": {},
   "source": [
    "## Tokenization"
   ]
  },
  {
   "cell_type": "code",
   "execution_count": 6,
   "id": "c2454840",
   "metadata": {
    "ExecuteTime": {
     "end_time": "2022-09-21T16:12:36.117613Z",
     "start_time": "2022-09-21T16:12:36.104504Z"
    }
   },
   "outputs": [],
   "source": [
    "tok = Tokenizer(oov_token = '<UNK>')"
   ]
  },
  {
   "cell_type": "code",
   "execution_count": 7,
   "id": "129333ab",
   "metadata": {
    "ExecuteTime": {
     "end_time": "2022-09-21T16:12:36.494653Z",
     "start_time": "2022-09-21T16:12:36.478589Z"
    }
   },
   "outputs": [],
   "source": [
    "# we fit only on training data and just transform that on testing data"
   ]
  },
  {
   "cell_type": "code",
   "execution_count": 8,
   "id": "2b72a40b",
   "metadata": {
    "ExecuteTime": {
     "end_time": "2022-09-21T16:12:36.920752Z",
     "start_time": "2022-09-21T16:12:36.751849Z"
    }
   },
   "outputs": [],
   "source": [
    "#fitting on training data\n",
    "tok.fit_on_texts(x_train)"
   ]
  },
  {
   "cell_type": "code",
   "execution_count": 9,
   "id": "b52f22f8",
   "metadata": {
    "ExecuteTime": {
     "end_time": "2022-09-21T16:12:37.197957Z",
     "start_time": "2022-09-21T16:12:37.176809Z"
    }
   },
   "outputs": [
    {
     "data": {
      "text/plain": [
       "7069"
      ]
     },
     "execution_count": 9,
     "metadata": {},
     "output_type": "execute_result"
    }
   ],
   "source": [
    "len(tok.word_index)"
   ]
  },
  {
   "cell_type": "code",
   "execution_count": 10,
   "id": "2eb14860",
   "metadata": {
    "ExecuteTime": {
     "end_time": "2022-09-21T16:12:37.957075Z",
     "start_time": "2022-09-21T16:12:37.772519Z"
    }
   },
   "outputs": [],
   "source": [
    "# just transforming the test data\n",
    "train_sequences = tok.texts_to_sequences(x_train)\n",
    "test_sequences = tok.texts_to_sequences(x_test)"
   ]
  },
  {
   "cell_type": "code",
   "execution_count": 11,
   "id": "af4a73bc",
   "metadata": {
    "ExecuteTime": {
     "end_time": "2022-09-21T16:12:39.074187Z",
     "start_time": "2022-09-21T16:12:39.061457Z"
    }
   },
   "outputs": [],
   "source": [
    "with open('filename.pickle', 'wb') as handle:\n",
    "    pickle.dump(tok, handle, protocol=pickle.HIGHEST_PROTOCOL)\n"
   ]
  },
  {
   "cell_type": "markdown",
   "id": "f32da9cd",
   "metadata": {},
   "source": [
    "## Padding"
   ]
  },
  {
   "cell_type": "code",
   "execution_count": 12,
   "id": "f3788a37",
   "metadata": {
    "ExecuteTime": {
     "end_time": "2022-09-21T16:12:44.875919Z",
     "start_time": "2022-09-21T16:12:44.685438Z"
    }
   },
   "outputs": [
    {
     "data": {
      "text/plain": [
       "(array([14., 16., 47., 65., 43., 50., 46., 22., 72., 36.]),\n",
       " array([  0.,  20.,  40.,  60.,  80., 100., 120., 140., 160., 180., 200.]),\n",
       " <BarContainer object of 10 artists>)"
      ]
     },
     "execution_count": 12,
     "metadata": {},
     "output_type": "execute_result"
    },
    {
     "data": {
      "image/png": "[encoded data removed]",
      "text/plain": [
       "<Figure size 432x288 with 1 Axes>"
      ]
     },
     "metadata": {
      "needs_background": "light"
     },
     "output_type": "display_data"
    }
   ],
   "source": [
    "plt.hist(df['clean_text'].apply(lambda x:len(x.split())),range = (0,200))"
   ]
  },
  {
   "cell_type": "code",
   "execution_count": 13,
   "id": "7297be70",
   "metadata": {
    "ExecuteTime": {
     "end_time": "2022-09-21T16:12:45.811626Z",
     "start_time": "2022-09-21T16:12:45.779534Z"
    }
   },
   "outputs": [],
   "source": [
    "x_train = pad_sequences(train_sequences,maxlen=100,padding='pre',truncating='pre')\n",
    "x_test = pad_sequences(test_sequences,maxlen=100,padding='pre',truncating='pre')"
   ]
  },
  {
   "cell_type": "markdown",
   "id": "8343beb7",
   "metadata": {},
   "source": [
    "## Model Fitting"
   ]
  },
  {
   "cell_type": "code",
   "execution_count": 14,
   "id": "800f7dd5",
   "metadata": {
    "ExecuteTime": {
     "end_time": "2022-09-21T16:12:47.443863Z",
     "start_time": "2022-09-21T16:12:46.714170Z"
    }
   },
   "outputs": [],
   "source": [
    "model = Sequential([\n",
    "    Embedding(92706,300),\n",
    "    LSTM(128),\n",
    "    Dense(100,activation='relu'),\n",
    "    Dense(6,activation='softmax')  \n",
    "    \n",
    "])"
   ]
  },
  {
   "cell_type": "code",
   "execution_count": 15,
   "id": "dde95172",
   "metadata": {
    "ExecuteTime": {
     "end_time": "2022-09-21T16:12:47.478039Z",
     "start_time": "2022-09-21T16:12:47.443863Z"
    }
   },
   "outputs": [
    {
     "name": "stdout",
     "output_type": "stream",
     "text": [
      "Model: \"sequential\"\n",
      "_________________________________________________________________\n",
      " Layer (type)                Output Shape              Param #   \n",
      "=================================================================\n",
      " embedding (Embedding)       (None, None, 300)         27811800  \n",
      "                                                                 \n",
      " lstm (LSTM)                 (None, 128)               219648    \n",
      "                                                                 \n",
      " dense (Dense)               (None, 100)               12900     \n",
      "                                                                 \n",
      " dense_1 (Dense)             (None, 6)                 606       \n",
      "                                                                 \n",
      "=================================================================\n",
      "Total params: 28,044,954\n",
      "Trainable params: 28,044,954\n",
      "Non-trainable params: 0\n",
      "_________________________________________________________________\n"
     ]
    }
   ],
   "source": [
    "model.summary()"
   ]
  },
  {
   "cell_type": "code",
   "execution_count": 16,
   "id": "40c89ab4",
   "metadata": {
    "ExecuteTime": {
     "end_time": "2022-09-21T16:12:48.496560Z",
     "start_time": "2022-09-21T16:12:48.475814Z"
    }
   },
   "outputs": [],
   "source": [
    "model.compile(optimizer='adam',loss= 'SparseCategoricalCrossentropy',metrics=['accuracy'])"
   ]
  },
  {
   "cell_type": "code",
   "execution_count": 17,
   "id": "d02d1a31",
   "metadata": {
    "ExecuteTime": {
     "end_time": "2022-09-21T16:13:08.509106Z",
     "start_time": "2022-09-21T16:12:49.637298Z"
    }
   },
   "outputs": [
    {
     "name": "stdout",
     "output_type": "stream",
     "text": [
      "Epoch 1/10\n",
      "2/2 [==============================] - 4s 1s/step - loss: 1.7874 - accuracy: 0.2912 - val_loss: 1.7649 - val_accuracy: 0.7128\n",
      "Epoch 2/10\n",
      "2/2 [==============================] - 2s 700ms/step - loss: 1.7607 - accuracy: 0.6776 - val_loss: 1.7352 - val_accuracy: 0.6920\n",
      "Epoch 3/10\n",
      "2/2 [==============================] - 2s 705ms/step - loss: 1.7284 - accuracy: 0.6761 - val_loss: 1.6901 - val_accuracy: 0.6851\n",
      "Epoch 4/10\n",
      "2/2 [==============================] - 2s 725ms/step - loss: 1.6793 - accuracy: 0.6716 - val_loss: 1.6147 - val_accuracy: 0.6747\n",
      "Epoch 5/10\n",
      "2/2 [==============================] - 2s 744ms/step - loss: 1.6000 - accuracy: 0.6478 - val_loss: 1.4690 - val_accuracy: 0.6228\n",
      "Epoch 6/10\n",
      "2/2 [==============================] - 2s 717ms/step - loss: 1.4418 - accuracy: 0.5765 - val_loss: 1.2114 - val_accuracy: 0.5433\n",
      "Epoch 7/10\n",
      "2/2 [==============================] - 2s 703ms/step - loss: 1.2170 - accuracy: 0.5394 - val_loss: 0.9832 - val_accuracy: 0.6263\n",
      "Epoch 8/10\n",
      "2/2 [==============================] - 2s 695ms/step - loss: 1.0101 - accuracy: 0.5840 - val_loss: 0.8276 - val_accuracy: 0.6436\n",
      "Epoch 9/10\n",
      "2/2 [==============================] - 2s 712ms/step - loss: 0.8554 - accuracy: 0.6196 - val_loss: 0.7245 - val_accuracy: 0.7128\n",
      "Epoch 10/10\n",
      "2/2 [==============================] - 2s 784ms/step - loss: 0.7634 - accuracy: 0.6939 - val_loss: 0.6523 - val_accuracy: 0.7682\n"
     ]
    }
   ],
   "source": [
    "history = model.fit(x_train,y_train,batch_size=500,epochs=10,validation_data=(x_test,y_test))"
   ]
  },
  {
   "cell_type": "code",
   "execution_count": 18,
   "id": "d600f106",
   "metadata": {
    "ExecuteTime": {
     "end_time": "2022-09-21T16:13:08.683340Z",
     "start_time": "2022-09-21T16:13:08.512098Z"
    }
   },
   "outputs": [
    {
     "data": {
      "text/plain": [
       "<matplotlib.legend.Legend at 0x25f17d484f0>"
      ]
     },
     "execution_count": 18,
     "metadata": {},
     "output_type": "execute_result"
    },
    {
     "data": {
      "image/png": "[encoded data removed]",
      "text/plain": [
       "<Figure size 432x288 with 1 Axes>"
      ]
     },
     "metadata": {
      "needs_background": "light"
     },
     "output_type": "display_data"
    }
   ],
   "source": [
    "plt.plot(history.history['loss'])\n",
    "plt.plot(history.history['val_loss'])\n",
    "plt.xlabel('Epochs')\n",
    "plt.ylabel('Loss')\n",
    "plt.title('Loss Plot')\n",
    "plt.legend(['train','test'])"
   ]
  },
  {
   "cell_type": "code",
   "execution_count": 19,
   "id": "a8eda841",
   "metadata": {
    "ExecuteTime": {
     "end_time": "2022-09-21T16:13:23.862811Z",
     "start_time": "2022-09-21T16:13:23.734174Z"
    }
   },
   "outputs": [
    {
     "data": {
      "text/plain": [
       "<matplotlib.legend.Legend at 0x25f154af970>"
      ]
     },
     "execution_count": 19,
     "metadata": {},
     "output_type": "execute_result"
    },
    {
     "data": {
      "image/png": "[encoded data removed]",
      "text/plain": [
       "<Figure size 432x288 with 1 Axes>"
      ]
     },
     "metadata": {
      "needs_background": "light"
     },
     "output_type": "display_data"
    }
   ],
   "source": [
    "plt.plot(history.history['accuracy'])\n",
    "plt.plot(history.history['val_accuracy'])\n",
    "plt.xlabel('Epochs')\n",
    "plt.ylabel('accuracy')\n",
    "plt.title('Accuracy Plot')\n",
    "plt.legend(['train','test'])"
   ]
  },
  {
   "cell_type": "code",
   "execution_count": 20,
   "id": "ecaaff18",
   "metadata": {
    "ExecuteTime": {
     "end_time": "2022-09-21T16:13:27.381367Z",
     "start_time": "2022-09-21T16:13:26.699836Z"
    }
   },
   "outputs": [],
   "source": [
    "model.save('LSTM_Model.h5')"
   ]
  },
  {
   "cell_type": "code",
   "execution_count": null,
   "id": "33b4f908",
   "metadata": {},
   "outputs": [],
   "source": []
  }
 ],
 "metadata": {
  "kernelspec": {
   "display_name": "Python 3 (ipykernel)",
   "language": "python",
   "name": "python3"
  },
  "language_info": {
   "codemirror_mode": {
    "name": "ipython",
    "version": 3
   },
   "file_extension": ".py",
   "mimetype": "text/x-python",
   "name": "python",
   "nbconvert_exporter": "python",
   "pygments_lexer": "ipython3",
   "version": "3.9.12"
  }
 },
 "nbformat": 4,
 "nbformat_minor": 5
}
