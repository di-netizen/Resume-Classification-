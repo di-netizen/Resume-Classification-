{
 "cells": [
  {
   "cell_type": "markdown",
   "id": "59a947b4",
   "metadata": {},
   "source": [
    "## Importing Necessory Libraries"
   ]
  },
  {
   "cell_type": "code",
   "execution_count": 1,
   "id": "d2f9b789",
   "metadata": {
    "ExecuteTime": {
     "end_time": "2022-09-20T16:17:10.611019Z",
     "start_time": "2022-09-20T16:17:01.067291Z"
    }
   },
   "outputs": [
    {
     "name": "stderr",
     "output_type": "stream",
     "text": [
      "[nltk_data] Error loading stopwords: <urlopen error [Errno 11001]\n",
      "[nltk_data]     getaddrinfo failed>\n"
     ]
    }
   ],
   "source": [
    "import pandas as pd\n",
    "import gzip\n",
    "import numpy as np\n",
    "import tensorflow as tf\n",
    "import regex as re\n",
    "import nltk \n",
    "nltk.download('stopwords')\n",
    "from nltk.corpus import stopwords\n",
    "stop = stopwords.words('english')\n",
    "from sklearn.preprocessing import LabelEncoder"
   ]
  },
  {
   "cell_type": "code",
   "execution_count": 2,
   "id": "84a5d5dd",
   "metadata": {
    "ExecuteTime": {
     "end_time": "2022-09-20T16:17:41.368265Z",
     "start_time": "2022-09-20T16:17:41.296445Z"
    }
   },
   "outputs": [
    {
     "data": {
      "text/html": [
       "<div>\n",
       "<style scoped>\n",
       "    .dataframe tbody tr th:only-of-type {\n",
       "        vertical-align: middle;\n",
       "    }\n",
       "\n",
       "    .dataframe tbody tr th {\n",
       "        vertical-align: top;\n",
       "    }\n",
       "\n",
       "    .dataframe thead th {\n",
       "        text-align: right;\n",
       "    }\n",
       "</style>\n",
       "<table border=\"1\" class=\"dataframe\">\n",
       "  <thead>\n",
       "    <tr style=\"text-align: right;\">\n",
       "      <th></th>\n",
       "      <th>Category</th>\n",
       "      <th>Resume</th>\n",
       "    </tr>\n",
       "  </thead>\n",
       "  <tbody>\n",
       "    <tr>\n",
       "      <th>0</th>\n",
       "      <td>Data Science</td>\n",
       "      <td>Skills * Programming Languages: Python (pandas...</td>\n",
       "    </tr>\n",
       "    <tr>\n",
       "      <th>1</th>\n",
       "      <td>Data Science</td>\n",
       "      <td>Education Details \\r\\nMay 2013 to May 2017 B.E...</td>\n",
       "    </tr>\n",
       "    <tr>\n",
       "      <th>2</th>\n",
       "      <td>Data Science</td>\n",
       "      <td>Areas of Interest Deep Learning, Control Syste...</td>\n",
       "    </tr>\n",
       "    <tr>\n",
       "      <th>3</th>\n",
       "      <td>Data Science</td>\n",
       "      <td>Skills â¢ R â¢ Python â¢ SAP HANA â¢ Table...</td>\n",
       "    </tr>\n",
       "    <tr>\n",
       "      <th>4</th>\n",
       "      <td>Data Science</td>\n",
       "      <td>Education Details \\r\\n MCA   YMCAUST,  Faridab...</td>\n",
       "    </tr>\n",
       "  </tbody>\n",
       "</table>\n",
       "</div>"
      ],
      "text/plain": [
       "       Category                                             Resume\n",
       "0  Data Science  Skills * Programming Languages: Python (pandas...\n",
       "1  Data Science  Education Details \\r\\nMay 2013 to May 2017 B.E...\n",
       "2  Data Science  Areas of Interest Deep Learning, Control Syste...\n",
       "3  Data Science  Skills â¢ R â¢ Python â¢ SAP HANA â¢ Table...\n",
       "4  Data Science  Education Details \\r\\n MCA   YMCAUST,  Faridab..."
      ]
     },
     "execution_count": 2,
     "metadata": {},
     "output_type": "execute_result"
    }
   ],
   "source": [
    "df = pd.read_csv('Aerotek_Resume_Classification.csv')\n",
    "df.head()"
   ]
  },
  {
   "cell_type": "code",
   "execution_count": 5,
   "id": "e5b3896e",
   "metadata": {
    "ExecuteTime": {
     "end_time": "2022-09-20T16:26:52.834369Z",
     "start_time": "2022-09-20T16:26:52.815407Z"
    }
   },
   "outputs": [
    {
     "data": {
      "text/plain": [
       "array(['Data Science', 'Non-IT', 'Testing', 'Technical Maintenance',\n",
       "       'Developer', 'Database'], dtype=object)"
      ]
     },
     "execution_count": 5,
     "metadata": {},
     "output_type": "execute_result"
    }
   ],
   "source": [
    "df['Category'].unique()"
   ]
  },
  {
   "cell_type": "code",
   "execution_count": 3,
   "id": "ea619d8d",
   "metadata": {
    "ExecuteTime": {
     "end_time": "2022-09-20T16:25:53.596143Z",
     "start_time": "2022-09-20T16:25:53.567639Z"
    }
   },
   "outputs": [
    {
     "data": {
      "text/plain": [
       "Developer                279\n",
       "Non-IT                   240\n",
       "Testing                  141\n",
       "Technical Maintenance    119\n",
       "Database                 115\n",
       "Data Science              68\n",
       "Name: Category, dtype: int64"
      ]
     },
     "execution_count": 3,
     "metadata": {},
     "output_type": "execute_result"
    }
   ],
   "source": [
    "df['Category'].value_counts()"
   ]
  },
  {
   "cell_type": "markdown",
   "id": "9193ab45",
   "metadata": {},
   "source": [
    "## Encoding"
   ]
  },
  {
   "cell_type": "code",
   "execution_count": 6,
   "id": "8db86ffb",
   "metadata": {
    "ExecuteTime": {
     "end_time": "2022-09-20T16:28:53.744764Z",
     "start_time": "2022-09-20T16:28:53.720700Z"
    }
   },
   "outputs": [],
   "source": [
    "labelencoder = LabelEncoder()\n",
    "df['Cataogory_Enc'] = labelencoder.fit_transform(df['Category'])"
   ]
  },
  {
   "cell_type": "code",
   "execution_count": 8,
   "id": "f332abe1",
   "metadata": {
    "ExecuteTime": {
     "end_time": "2022-09-20T16:29:19.086853Z",
     "start_time": "2022-09-20T16:29:19.069484Z"
    }
   },
   "outputs": [
    {
     "data": {
      "text/html": [
       "<div>\n",
       "<style scoped>\n",
       "    .dataframe tbody tr th:only-of-type {\n",
       "        vertical-align: middle;\n",
       "    }\n",
       "\n",
       "    .dataframe tbody tr th {\n",
       "        vertical-align: top;\n",
       "    }\n",
       "\n",
       "    .dataframe thead th {\n",
       "        text-align: right;\n",
       "    }\n",
       "</style>\n",
       "<table border=\"1\" class=\"dataframe\">\n",
       "  <thead>\n",
       "    <tr style=\"text-align: right;\">\n",
       "      <th></th>\n",
       "      <th>Category</th>\n",
       "      <th>Resume</th>\n",
       "      <th>Cataogory_Enc</th>\n",
       "    </tr>\n",
       "  </thead>\n",
       "  <tbody>\n",
       "    <tr>\n",
       "      <th>0</th>\n",
       "      <td>Data Science</td>\n",
       "      <td>Skills * Programming Languages: Python (pandas...</td>\n",
       "      <td>0</td>\n",
       "    </tr>\n",
       "    <tr>\n",
       "      <th>1</th>\n",
       "      <td>Data Science</td>\n",
       "      <td>Education Details \\r\\nMay 2013 to May 2017 B.E...</td>\n",
       "      <td>0</td>\n",
       "    </tr>\n",
       "    <tr>\n",
       "      <th>2</th>\n",
       "      <td>Data Science</td>\n",
       "      <td>Areas of Interest Deep Learning, Control Syste...</td>\n",
       "      <td>0</td>\n",
       "    </tr>\n",
       "    <tr>\n",
       "      <th>3</th>\n",
       "      <td>Data Science</td>\n",
       "      <td>Skills â¢ R â¢ Python â¢ SAP HANA â¢ Table...</td>\n",
       "      <td>0</td>\n",
       "    </tr>\n",
       "    <tr>\n",
       "      <th>4</th>\n",
       "      <td>Data Science</td>\n",
       "      <td>Education Details \\r\\n MCA   YMCAUST,  Faridab...</td>\n",
       "      <td>0</td>\n",
       "    </tr>\n",
       "    <tr>\n",
       "      <th>...</th>\n",
       "      <td>...</td>\n",
       "      <td>...</td>\n",
       "      <td>...</td>\n",
       "    </tr>\n",
       "    <tr>\n",
       "      <th>150</th>\n",
       "      <td>Testing</td>\n",
       "      <td>Technical Skills Web Technologies: Angular JS,...</td>\n",
       "      <td>5</td>\n",
       "    </tr>\n",
       "    <tr>\n",
       "      <th>151</th>\n",
       "      <td>Testing</td>\n",
       "      <td>Education Details \\r\\n B.C.A Bachelor Computer...</td>\n",
       "      <td>5</td>\n",
       "    </tr>\n",
       "    <tr>\n",
       "      <th>152</th>\n",
       "      <td>Testing</td>\n",
       "      <td>Technical Skills Web Technologies: Angular JS,...</td>\n",
       "      <td>5</td>\n",
       "    </tr>\n",
       "    <tr>\n",
       "      <th>153</th>\n",
       "      <td>Testing</td>\n",
       "      <td>Education Details \\r\\nJanuary 2016 B.Sc. Infor...</td>\n",
       "      <td>5</td>\n",
       "    </tr>\n",
       "    <tr>\n",
       "      <th>154</th>\n",
       "      <td>Testing</td>\n",
       "      <td>IT SKILLS Languages: C (Basic), JAVA (Basic) W...</td>\n",
       "      <td>5</td>\n",
       "    </tr>\n",
       "  </tbody>\n",
       "</table>\n",
       "<p>155 rows × 3 columns</p>\n",
       "</div>"
      ],
      "text/plain": [
       "         Category                                             Resume  \\\n",
       "0    Data Science  Skills * Programming Languages: Python (pandas...   \n",
       "1    Data Science  Education Details \\r\\nMay 2013 to May 2017 B.E...   \n",
       "2    Data Science  Areas of Interest Deep Learning, Control Syste...   \n",
       "3    Data Science  Skills â¢ R â¢ Python â¢ SAP HANA â¢ Table...   \n",
       "4    Data Science  Education Details \\r\\n MCA   YMCAUST,  Faridab...   \n",
       "..            ...                                                ...   \n",
       "150       Testing  Technical Skills Web Technologies: Angular JS,...   \n",
       "151       Testing  Education Details \\r\\n B.C.A Bachelor Computer...   \n",
       "152       Testing  Technical Skills Web Technologies: Angular JS,...   \n",
       "153       Testing  Education Details \\r\\nJanuary 2016 B.Sc. Infor...   \n",
       "154       Testing  IT SKILLS Languages: C (Basic), JAVA (Basic) W...   \n",
       "\n",
       "     Cataogory_Enc  \n",
       "0                0  \n",
       "1                0  \n",
       "2                0  \n",
       "3                0  \n",
       "4                0  \n",
       "..             ...  \n",
       "150              5  \n",
       "151              5  \n",
       "152              5  \n",
       "153              5  \n",
       "154              5  \n",
       "\n",
       "[155 rows x 3 columns]"
      ]
     },
     "execution_count": 8,
     "metadata": {},
     "output_type": "execute_result"
    }
   ],
   "source": [
    "df.head(155)"
   ]
  },
  {
   "cell_type": "markdown",
   "id": "743278a6",
   "metadata": {},
   "source": [
    "## Data Cleaning"
   ]
  },
  {
   "cell_type": "code",
   "execution_count": 9,
   "id": "3b36c089",
   "metadata": {
    "ExecuteTime": {
     "end_time": "2022-09-20T16:30:07.150249Z",
     "start_time": "2022-09-20T16:30:07.134844Z"
    }
   },
   "outputs": [],
   "source": [
    "def data_cleaning(text):\n",
    "    text = str(text)\n",
    "    text = text.lower() # convert everything into lower case\n",
    "    text = re.sub(\"http\\S+\",\" \",text,flags = re.MULTILINE) #Replacing hyperlink with a space\n",
    "    text = re.sub(\"[^a-z]\",\" \",text) #only allowed small a-z\n",
    "    text = re.sub(\"\\.+\",\" \",text) #replace multiple dots with a space\n",
    "    words = text.split()\n",
    "    imp_words = [w for w in words if w not in stop]\n",
    "    return ' '.join(imp_words)"
   ]
  },
  {
   "cell_type": "code",
   "execution_count": 10,
   "id": "eba4453c",
   "metadata": {
    "ExecuteTime": {
     "end_time": "2022-09-20T16:30:32.038271Z",
     "start_time": "2022-09-20T16:30:31.089870Z"
    }
   },
   "outputs": [],
   "source": [
    "df['clean_text'] = df['Resume'].apply(lambda x: data_cleaning(x))"
   ]
  },
  {
   "cell_type": "code",
   "execution_count": 11,
   "id": "9c494ab5",
   "metadata": {
    "ExecuteTime": {
     "end_time": "2022-09-20T16:30:40.500329Z",
     "start_time": "2022-09-20T16:30:40.480490Z"
    }
   },
   "outputs": [
    {
     "data": {
      "text/html": [
       "<div>\n",
       "<style scoped>\n",
       "    .dataframe tbody tr th:only-of-type {\n",
       "        vertical-align: middle;\n",
       "    }\n",
       "\n",
       "    .dataframe tbody tr th {\n",
       "        vertical-align: top;\n",
       "    }\n",
       "\n",
       "    .dataframe thead th {\n",
       "        text-align: right;\n",
       "    }\n",
       "</style>\n",
       "<table border=\"1\" class=\"dataframe\">\n",
       "  <thead>\n",
       "    <tr style=\"text-align: right;\">\n",
       "      <th></th>\n",
       "      <th>Category</th>\n",
       "      <th>Resume</th>\n",
       "      <th>Cataogory_Enc</th>\n",
       "      <th>clean_text</th>\n",
       "    </tr>\n",
       "  </thead>\n",
       "  <tbody>\n",
       "    <tr>\n",
       "      <th>0</th>\n",
       "      <td>Data Science</td>\n",
       "      <td>Skills * Programming Languages: Python (pandas...</td>\n",
       "      <td>0</td>\n",
       "      <td>skills programming languages python pandas num...</td>\n",
       "    </tr>\n",
       "    <tr>\n",
       "      <th>1</th>\n",
       "      <td>Data Science</td>\n",
       "      <td>Education Details \\r\\nMay 2013 to May 2017 B.E...</td>\n",
       "      <td>0</td>\n",
       "      <td>education details may may b e uit rgpv data sc...</td>\n",
       "    </tr>\n",
       "    <tr>\n",
       "      <th>2</th>\n",
       "      <td>Data Science</td>\n",
       "      <td>Areas of Interest Deep Learning, Control Syste...</td>\n",
       "      <td>0</td>\n",
       "      <td>areas interest deep learning control system de...</td>\n",
       "    </tr>\n",
       "    <tr>\n",
       "      <th>3</th>\n",
       "      <td>Data Science</td>\n",
       "      <td>Skills â¢ R â¢ Python â¢ SAP HANA â¢ Table...</td>\n",
       "      <td>0</td>\n",
       "      <td>skills r python sap hana tableau sap hana sql ...</td>\n",
       "    </tr>\n",
       "    <tr>\n",
       "      <th>4</th>\n",
       "      <td>Data Science</td>\n",
       "      <td>Education Details \\r\\n MCA   YMCAUST,  Faridab...</td>\n",
       "      <td>0</td>\n",
       "      <td>education details mca ymcaust faridabad haryan...</td>\n",
       "    </tr>\n",
       "  </tbody>\n",
       "</table>\n",
       "</div>"
      ],
      "text/plain": [
       "       Category                                             Resume  \\\n",
       "0  Data Science  Skills * Programming Languages: Python (pandas...   \n",
       "1  Data Science  Education Details \\r\\nMay 2013 to May 2017 B.E...   \n",
       "2  Data Science  Areas of Interest Deep Learning, Control Syste...   \n",
       "3  Data Science  Skills â¢ R â¢ Python â¢ SAP HANA â¢ Table...   \n",
       "4  Data Science  Education Details \\r\\n MCA   YMCAUST,  Faridab...   \n",
       "\n",
       "   Cataogory_Enc                                         clean_text  \n",
       "0              0  skills programming languages python pandas num...  \n",
       "1              0  education details may may b e uit rgpv data sc...  \n",
       "2              0  areas interest deep learning control system de...  \n",
       "3              0  skills r python sap hana tableau sap hana sql ...  \n",
       "4              0  education details mca ymcaust faridabad haryan...  "
      ]
     },
     "execution_count": 11,
     "metadata": {},
     "output_type": "execute_result"
    }
   ],
   "source": [
    "df.head()"
   ]
  },
  {
   "cell_type": "code",
   "execution_count": 13,
   "id": "a7a33b16",
   "metadata": {
    "ExecuteTime": {
     "end_time": "2022-09-20T16:32:01.144479Z",
     "start_time": "2022-09-20T16:32:01.125721Z"
    }
   },
   "outputs": [],
   "source": [
    "df = df[['clean_text','Cataogory_Enc']]"
   ]
  },
  {
   "cell_type": "code",
   "execution_count": 14,
   "id": "8cdfdc4b",
   "metadata": {
    "ExecuteTime": {
     "end_time": "2022-09-20T16:32:32.209476Z",
     "start_time": "2022-09-20T16:32:32.108866Z"
    }
   },
   "outputs": [],
   "source": [
    "df.to_csv('clean_data.csv')"
   ]
  },
  {
   "cell_type": "code",
   "execution_count": null,
   "id": "9f5cdb46",
   "metadata": {},
   "outputs": [],
   "source": []
  }
 ],
 "metadata": {
  "kernelspec": {
   "display_name": "Python 3 (ipykernel)",
   "language": "python",
   "name": "python3"
  },
  "language_info": {
   "codemirror_mode": {
    "name": "ipython",
    "version": 3
   },
   "file_extension": ".py",
   "mimetype": "text/x-python",
   "name": "python",
   "nbconvert_exporter": "python",
   "pygments_lexer": "ipython3",
   "version": "3.9.12"
  }
 },
 "nbformat": 4,
 "nbformat_minor": 5
}
